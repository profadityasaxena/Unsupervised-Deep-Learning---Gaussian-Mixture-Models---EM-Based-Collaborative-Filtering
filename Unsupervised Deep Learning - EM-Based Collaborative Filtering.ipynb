{
 "cells": [
  {
   "metadata": {},
   "cell_type": "markdown",
   "source": [
    "# 📊 Unsupervised Deep Learning: Gaussian Mixture Models & EM-Based Collaborative Filtering\n",
    "\n",
    "Welcome to this comprehensive course on **Unsupervised Deep Learning**, designed and instructed by **Aditya Saxena**. This course explores the fascinating domain of unsupervised learning, where algorithms discover hidden patterns in data without labeled outputs. You will learn to apply mathematical and algorithmic techniques to understand clustering, probability distributions, and latent variable models—all essential for data-driven decision-making in modern machine learning systems.\n",
    "\n",
    "The course focuses on practical implementation and theory behind **Gaussian Mixture Models (GMMs)** and the **Expectation-Maximization (EM) algorithm**, culminating in a real-world application: collaborative filtering and matrix completion using the Netflix dataset. By the end of this journey, you will have built a recommendation system from the ground up using probabilistic principles and iterative optimization techniques. This notebook series is structured modularly, includes two mini-projects per module, and emphasizes interpretability, evaluation, and reproducibility.\n",
    "\n",
    "## 📓 Course Modules\n",
    "Each module consists of structured Jupyter Notebooks with explanations, derivations, code walkthroughs, and mini-projects.\n",
    "\n",
    "* Module 01: Introduction to Unsupervised Learning\n",
    "* Module 02: K-Means Clustering\n",
    "* Module 03: Gaussian Mixture Models (GMMs)\n",
    "* Module 04: Expectation-Maximization (EM) Algorithm\n",
    "* Module 05: EM for Matrix Completion (Netflix Data)\n",
    "* Module 06: Log-Domain Calculations & Stability\n",
    "* Module 07: BIC for Model Selection\n",
    "* Module 08: Completing Missing Entries\n",
    "* Module 09: Evaluation using RMSE & Model Interpretability\n",
    "* Module 10: Final Project & Case Study Walkthrough"
   ],
   "id": "65427f7c124f1113"
  },
  {
   "metadata": {},
   "cell_type": "markdown",
   "source": "",
   "id": "3d5b7d96708101c8"
  }
 ],
 "metadata": {
  "kernelspec": {
   "display_name": "Python 3",
   "language": "python",
   "name": "python3"
  },
  "language_info": {
   "codemirror_mode": {
    "name": "ipython",
    "version": 2
   },
   "file_extension": ".py",
   "mimetype": "text/x-python",
   "name": "python",
   "nbconvert_exporter": "python",
   "pygments_lexer": "ipython2",
   "version": "2.7.6"
  }
 },
 "nbformat": 4,
 "nbformat_minor": 5
}
